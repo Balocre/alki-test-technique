{
 "cells": [
  {
   "cell_type": "code",
   "execution_count": null,
   "metadata": {},
   "outputs": [],
   "source": [
    "import seaborn as sns\n",
    "import pandas as pd"
   ]
  },
  {
   "cell_type": "code",
   "execution_count": null,
   "metadata": {},
   "outputs": [],
   "source": [
    "data = pd.read_csv(\n",
    "    \"../train.csv\",\n",
    "    sep=\";\",\n",
    "    dtype={\"DATE\": str, \"CUSTOMER\": str, \"QUANTITY\": int},\n",
    "    index_col=\"DATE\",\n",
    "    parse_dates=[\"DATE\"],\n",
    ")\n",
    "data"
   ]
  },
  {
   "cell_type": "code",
   "execution_count": null,
   "metadata": {},
   "outputs": [],
   "source": [
    "sns.relplot(\n",
    "    data,\n",
    "    x=\"DATE\",\n",
    "    y=\"QUANTITY\",\n",
    "    hue=\"CUSTOMER\",\n",
    "    col=\"CUSTOMER\",\n",
    "    kind=\"line\",\n",
    "    aspect=5,\n",
    "    col_wrap=1,\n",
    "    facet_kws={\"sharey\": False},\n",
    ")"
   ]
  },
  {
   "cell_type": "code",
   "execution_count": null,
   "metadata": {},
   "outputs": [],
   "source": [
    "data[\"gap\"] = data.index.sort_values().diff() > pd.to_timedelta(\"1 day\")\n",
    "data[data.gap]"
   ]
  },
  {
   "cell_type": "code",
   "execution_count": null,
   "metadata": {},
   "outputs": [],
   "source": [
    "sns.barplot(data, x=\"DATE\", y=\"gap\", hue=\"CUSTOMER\")"
   ]
  },
  {
   "cell_type": "code",
   "execution_count": null,
   "metadata": {},
   "outputs": [],
   "source": []
  }
 ],
 "metadata": {
  "kernelspec": {
   "display_name": "alki",
   "language": "python",
   "name": "python3"
  },
  "language_info": {
   "codemirror_mode": {
    "name": "ipython",
    "version": 3
   },
   "file_extension": ".py",
   "mimetype": "text/x-python",
   "name": "python",
   "nbconvert_exporter": "python",
   "pygments_lexer": "ipython3",
   "version": "3.10.15"
  }
 },
 "nbformat": 4,
 "nbformat_minor": 2
}
