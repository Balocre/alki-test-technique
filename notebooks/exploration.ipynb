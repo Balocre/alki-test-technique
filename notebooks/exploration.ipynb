{
 "cells": [
  {
   "cell_type": "code",
   "execution_count": null,
   "metadata": {},
   "outputs": [],
   "source": [
    "import seaborn as sns\n",
    "import pandas as pd"
   ]
  },
  {
   "cell_type": "code",
   "execution_count": null,
   "metadata": {},
   "outputs": [],
   "source": [
    "data = pd.read_csv(\n",
    "    \"../train.csv\",\n",
    "    sep=\";\",\n",
    "    dtype={\"DATE\": str, \"CUSTOMER\": str, \"QUANTITY\": int},\n",
    "    index_col=\"DATE\",\n",
    "    parse_dates=[\"DATE\"],\n",
    ")\n",
    "data"
   ]
  },
  {
   "cell_type": "code",
   "execution_count": null,
   "metadata": {},
   "outputs": [],
   "source": [
    "sns.relplot(\n",
    "    data,\n",
    "    x=\"DATE\",\n",
    "    y=\"QUANTITY\",\n",
    "    hue=\"CUSTOMER\",\n",
    "    col=\"CUSTOMER\",\n",
    "    kind=\"line\",\n",
    "    aspect=5,\n",
    "    col_wrap=1,\n",
    "    facet_kws={\"sharey\": False},\n",
    ")"
   ]
  },
  {
   "cell_type": "code",
   "execution_count": null,
   "metadata": {},
   "outputs": [],
   "source": [
    "data[\"gap\"] = data.index.sort_values().diff() > pd.to_timedelta(\"1 day\")\n",
    "data[data.gap]"
   ]
  },
  {
   "cell_type": "code",
   "execution_count": null,
   "metadata": {},
   "outputs": [],
   "source": [
    "sns.barplot(data, x=\"DATE\", y=\"gap\", hue=\"CUSTOMER\")"
   ]
  },
  {
   "cell_type": "code",
   "execution_count": null,
   "metadata": {},
   "outputs": [],
   "source": [
    "from darts import TimeSeries\n",
    "\n",
    "series = TimeSeries.from_group_dataframe(\n",
    "    data,\n",
    "    group_cols=\"CUSTOMER\",\n",
    "    value_cols=\"QUANTITY\",\n",
    "    fill_missing_dates=True,\n",
    "    freq=\"D\",\n",
    ")"
   ]
  },
  {
   "cell_type": "code",
   "execution_count": null,
   "metadata": {},
   "outputs": [],
   "source": [
    "from darts.dataprocessing.transformers.missing_values_filler import MissingValuesFiller\n",
    "\n",
    "transformer_filler = MissingValuesFiller()\n",
    "series = transformer_filler.transform(series)"
   ]
  },
  {
   "cell_type": "code",
   "execution_count": null,
   "metadata": {},
   "outputs": [],
   "source": [
    "from darts.utils.statistics import check_seasonality\n",
    "\n",
    "for s in series:\n",
    "    print(s.static_covariates_values(), check_seasonality(s, 365, max_lag=730))"
   ]
  },
  {
   "cell_type": "code",
   "execution_count": null,
   "metadata": {},
   "outputs": [],
   "source": [
    "from darts.utils.statistics import plot_acf\n",
    "import matplotlib.pyplot as plt\n",
    "\n",
    "fig, axs = plt.subplots(2, 2, figsize=(16, 16))\n",
    "\n",
    "for s, a in zip(series, axs.flat):\n",
    "    plot_acf(s, 365, max_lag=730, axis=a)\n",
    "    a.set_title(s.static_covariates_values())"
   ]
  },
  {
   "cell_type": "code",
   "execution_count": null,
   "metadata": {},
   "outputs": [],
   "source": [
    "from darts.utils.statistics import plot_hist\n",
    "import matplotlib.pyplot as plt\n",
    "\n",
    "fig, axs = plt.subplots(2, 2, figsize=(16, 16))\n",
    "\n",
    "for s, a in zip(series, axs.flat):\n",
    "    plot_hist(s, bins=100, density=False, title=s.static_covariates_values(), ax=a)"
   ]
  },
  {
   "cell_type": "code",
   "execution_count": null,
   "metadata": {},
   "outputs": [],
   "source": []
  }
 ],
 "metadata": {
  "kernelspec": {
   "display_name": "alki",
   "language": "python",
   "name": "python3"
  },
  "language_info": {
   "codemirror_mode": {
    "name": "ipython",
    "version": 3
   },
   "file_extension": ".py",
   "mimetype": "text/x-python",
   "name": "python",
   "nbconvert_exporter": "python",
   "pygments_lexer": "ipython3",
   "version": "3.10.15"
  }
 },
 "nbformat": 4,
 "nbformat_minor": 2
}
