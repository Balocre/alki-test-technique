{
 "cells": [
  {
   "cell_type": "code",
   "execution_count": null,
   "metadata": {},
   "outputs": [],
   "source": [
    "%load_ext autoreload\n",
    "%autoreload 2"
   ]
  },
  {
   "cell_type": "code",
   "execution_count": null,
   "metadata": {},
   "outputs": [],
   "source": [
    "import pandas as pd\n",
    "import darts\n",
    "import numpy as np"
   ]
  },
  {
   "cell_type": "code",
   "execution_count": null,
   "metadata": {},
   "outputs": [],
   "source": [
    "CUSTOMERS_NAMES = [\"NUTRAVANCE\", \"ARGALYS\", \"LES MIRACULEUX\", \"MINCI DELICE\"]\n",
    "\n",
    "\n",
    "def build_df_from_alki_csv(filepath):\n",
    "    \"\"\"Build a Pandas dataframe from the data CSV\"\"\"\n",
    "\n",
    "    df = pd.read_csv(\n",
    "        filepath,\n",
    "        sep=\";\",\n",
    "        dtype={\"DATE\": str, \"CUSTOMER\": str, \"QUANTITY\": int},\n",
    "        index_col=\"DATE\",\n",
    "        parse_dates=[\"DATE\"],\n",
    "    )\n",
    "\n",
    "    return df\n",
    "\n",
    "\n",
    "def build_ts_from_alki_df(dataframe):\n",
    "    \"\"\"Build the customers Darts timeseries\"\"\"\n",
    "\n",
    "    timeseries = dict()\n",
    "    for customer_name in CUSTOMERS_NAMES:\n",
    "        df_customer = dataframe[dataframe[\"CUSTOMER\"] == customer_name]\n",
    "\n",
    "        ts_customer = darts.TimeSeries.from_dataframe(\n",
    "            df_customer, value_cols=\"QUANTITY\", fill_missing_dates=True, freq=\"D\"\n",
    "        )\n",
    "\n",
    "        timeseries[customer_name] = ts_customer\n",
    "\n",
    "    return timeseries"
   ]
  },
  {
   "cell_type": "code",
   "execution_count": null,
   "metadata": {},
   "outputs": [],
   "source": [
    "data_alki_df = build_df_from_alki_csv(\"../train.csv\")\n",
    "series_alki = build_ts_from_alki_df(data_alki_df)\n",
    "\n",
    "len(series_alki)"
   ]
  },
  {
   "cell_type": "code",
   "execution_count": null,
   "metadata": {},
   "outputs": [],
   "source": [
    "CUSTOMER = \"NUTRAVANCE\"\n",
    "\n",
    "series_customer = series_alki[CUSTOMER]"
   ]
  },
  {
   "cell_type": "code",
   "execution_count": null,
   "metadata": {},
   "outputs": [],
   "source": [
    "series_na_mask = series_customer.pd_series().isna()\n",
    "sample_weight = np.ones((len(series_customer), 1))\n",
    "sample_weight[series_na_mask, 0] = 0.2\n",
    "sample_weight = series_customer.with_values(sample_weight)"
   ]
  },
  {
   "cell_type": "code",
   "execution_count": null,
   "metadata": {},
   "outputs": [],
   "source": [
    "from darts.dataprocessing.transformers.missing_values_filler import MissingValuesFiller\n",
    "\n",
    "transformer_filler = MissingValuesFiller()\n",
    "series_filled = transformer_filler.transform(series_customer)"
   ]
  },
  {
   "cell_type": "code",
   "execution_count": null,
   "metadata": {},
   "outputs": [],
   "source": [
    "from darts.utils.model_selection import train_test_split\n",
    "\n",
    "test_size = 0.2\n",
    "\n",
    "series_train, series_val = train_test_split(\n",
    "    series_filled,\n",
    "    test_size=test_size,\n",
    "    axis=1,\n",
    "    input_size=48,\n",
    "    horizon=24,\n",
    "    vertical_split_type=\"model-aware\",\n",
    ")\n",
    "\n",
    "sample_weight_train, sample_weight_val = train_test_split(\n",
    "    sample_weight,\n",
    "    test_size=test_size,\n",
    "    axis=1,\n",
    "    input_size=48,\n",
    "    horizon=24,\n",
    "    vertical_split_type=\"model-aware\",\n",
    ")\n",
    "\n",
    "series_train.plot()\n",
    "series_val.plot()"
   ]
  },
  {
   "cell_type": "code",
   "execution_count": null,
   "metadata": {},
   "outputs": [],
   "source": [
    "from darts.dataprocessing.transformers import Scaler\n",
    "\n",
    "transformer_scaler = Scaler()\n",
    "\n",
    "series_train_t = transformer_scaler.fit_transform(series_train)\n",
    "series_val_t = transformer_scaler.fit_transform(series_val)\n",
    "series_t = transformer_scaler.fit_transform(series_customer)"
   ]
  },
  {
   "cell_type": "code",
   "execution_count": null,
   "metadata": {},
   "outputs": [],
   "source": [
    "from darts.models import TFTModel\n",
    "from darts.utils.likelihood_models import QuantileRegression\n",
    "from torchmetrics import MeanAbsolutePercentageError\n",
    "from pytorch_lightning.callbacks import EarlyStopping\n",
    "\n",
    "\n",
    "# default quantiles for QuantileRegression\n",
    "quantiles = [\n",
    "    0.01,\n",
    "    0.05,\n",
    "    0.1,\n",
    "    0.15,\n",
    "    0.2,\n",
    "    0.25,\n",
    "    0.3,\n",
    "    0.4,\n",
    "    0.5,\n",
    "    0.6,\n",
    "    0.7,\n",
    "    0.75,\n",
    "    0.8,\n",
    "    0.85,\n",
    "    0.9,\n",
    "    0.95,\n",
    "    0.99,\n",
    "]\n",
    "input_chunk_length = 24\n",
    "forecast_horizon = 12\n",
    "\n",
    "add_encoders = {\n",
    "    \"cyclic\": {\"future\": [\"month\"]},\n",
    "    \"datetime_attribute\": {\"future\": [\"dayofweek\"]},\n",
    "    \"transformer\": Scaler(),\n",
    "}\n",
    "\n",
    "torch_metrics = MeanAbsolutePercentageError()\n",
    "\n",
    "my_stopper = EarlyStopping(\n",
    "    monitor=\"val_MeanAbsolutePercentageError\",  # \"val_loss\",\n",
    "    patience=50,\n",
    "    min_delta=0.05,\n",
    "    mode=\"min\",\n",
    ")\n",
    "pl_trainer_kwargs = {\"callbacks\": [my_stopper]}\n",
    "\n",
    "model_tft = TFTModel(\n",
    "    input_chunk_length=input_chunk_length,\n",
    "    output_chunk_length=forecast_horizon,\n",
    "    hidden_size=512,\n",
    "    lstm_layers=1,\n",
    "    num_attention_heads=4,\n",
    "    full_attention=False,\n",
    "    dropout=0.1,\n",
    "    batch_size=512,\n",
    "    n_epochs=600,\n",
    "    add_relative_index=True,\n",
    "    add_encoders=add_encoders,\n",
    "    likelihood=QuantileRegression(\n",
    "        quantiles=quantiles\n",
    "    ),  # QuantileRegression is set per default\n",
    "    # loss_fn=MSELoss(),\n",
    "    random_state=42,\n",
    "    log_tensorboard=True,\n",
    "    torch_metrics=torch_metrics,\n",
    "    optimizer_kwargs={\"lr\": 0.001},\n",
    "    pl_trainer_kwargs=pl_trainer_kwargs,\n",
    ")\n",
    "\n",
    "model_tft"
   ]
  },
  {
   "cell_type": "code",
   "execution_count": null,
   "metadata": {},
   "outputs": [],
   "source": [
    "from darts.models.forecasting.forecasting_model import GlobalForecastingModel\n",
    "\n",
    "isinstance(model_tft, GlobalForecastingModel)"
   ]
  },
  {
   "cell_type": "code",
   "execution_count": null,
   "metadata": {},
   "outputs": [],
   "source": [
    "model_tft.fit(\n",
    "    series_train_t,\n",
    "    val_series=series_val_t,\n",
    "    verbose=True,\n",
    "    sample_weight=sample_weight_train,\n",
    "    val_sample_weight=sample_weight_val,\n",
    ")"
   ]
  },
  {
   "cell_type": "code",
   "execution_count": null,
   "metadata": {},
   "outputs": [],
   "source": [
    "from darts.models.forecasting.sf_auto_arima import StatsForecastAutoARIMA\n",
    "\n",
    "add_encoders = {\n",
    "    \"cyclic\": {\"future\": [\"month\"]},\n",
    "    \"datetime_attribute\": {\"future\": [\"dayofweek\"]},\n",
    "    \"transformer\": Scaler(),\n",
    "}\n",
    "\n",
    "model_arima = StatsForecastAutoARIMA(\n",
    "    season_length=30,\n",
    "    add_encoders=add_encoders,\n",
    ")"
   ]
  },
  {
   "cell_type": "code",
   "execution_count": null,
   "metadata": {},
   "outputs": [],
   "source": [
    "model_arima.fit(series_train_t)"
   ]
  },
  {
   "cell_type": "code",
   "execution_count": null,
   "metadata": {},
   "outputs": [],
   "source": [
    "# before starting, we define some constants\n",
    "num_samples = 10\n",
    "\n",
    "figsize = (16, 6)\n",
    "lowest_q, low_q, high_q, highest_q = 0.01, 0.1, 0.9, 0.99\n",
    "label_q_outer = f\"{int(lowest_q * 100)}-{int(highest_q * 100)}th percentiles\"\n",
    "label_q_inner = f\"{int(low_q * 100)}-{int(high_q * 100)}th percentiles\""
   ]
  },
  {
   "cell_type": "code",
   "execution_count": null,
   "metadata": {},
   "outputs": [],
   "source": [
    "from darts.metrics import mape, mase, rmse\n",
    "import matplotlib.pyplot as plt\n",
    "\n",
    "\n",
    "def eval_model(model, n, actual_series, val_series):\n",
    "    pred_series = model.predict(\n",
    "        n=n,\n",
    "        num_samples=num_samples,\n",
    "    )\n",
    "\n",
    "    # plot actual series\n",
    "    plt.figure(figsize=figsize)\n",
    "    actual_series[val_series.start_time() : val_series.end_time()].plot(label=\"actual\")\n",
    "\n",
    "    # plot prediction with quantile ranges\n",
    "    pred_series.plot(\n",
    "        low_quantile=lowest_q, high_quantile=highest_q, label=label_q_outer\n",
    "    )\n",
    "    pred_series.plot(low_quantile=low_q, high_quantile=high_q, label=label_q_inner)\n",
    "\n",
    "    plt.title(\"MAPE: {:.2f}%\".format(mape(val_series, pred_series)))\n",
    "    plt.legend()\n",
    "\n",
    "\n",
    "n = (series_val_t.end_time() - series_val_t.start_time()).days\n",
    "\n",
    "eval_model(model_arima, 200, series_t, series_val_t)"
   ]
  },
  {
   "cell_type": "code",
   "execution_count": null,
   "metadata": {},
   "outputs": [],
   "source": []
  },
  {
   "cell_type": "code",
   "execution_count": null,
   "metadata": {},
   "outputs": [],
   "source": []
  }
 ],
 "metadata": {
  "kernelspec": {
   "display_name": "alki",
   "language": "python",
   "name": "python3"
  },
  "language_info": {
   "codemirror_mode": {
    "name": "ipython",
    "version": 3
   },
   "file_extension": ".py",
   "mimetype": "text/x-python",
   "name": "python",
   "nbconvert_exporter": "python",
   "pygments_lexer": "ipython3",
   "version": "3.10.15"
  }
 },
 "nbformat": 4,
 "nbformat_minor": 2
}
