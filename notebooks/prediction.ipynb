{
 "cells": [
  {
   "cell_type": "code",
   "execution_count": null,
   "metadata": {},
   "outputs": [],
   "source": [
    "%load_ext autoreload\n",
    "%autoreload 2"
   ]
  },
  {
   "cell_type": "code",
   "execution_count": null,
   "metadata": {},
   "outputs": [],
   "source": [
    "from utils_alki import build_df_from_alki_csv, build_ts_from_alki_df\n",
    "\n",
    "data_alki_df = build_df_from_alki_csv()\n",
    "series_alki = build_ts_from_alki_df(data_alki_df)\n",
    "\n",
    "len(series_alki)"
   ]
  },
  {
   "cell_type": "code",
   "execution_count": null,
   "metadata": {},
   "outputs": [],
   "source": [
    "CUSTOMER = \"NUTRAVANCE\"\n",
    "\n",
    "series_customer = series_alki[CUSTOMER]"
   ]
  },
  {
   "cell_type": "code",
   "execution_count": null,
   "metadata": {},
   "outputs": [],
   "source": [
    "import numpy as np\n",
    "\n",
    "series_na_mask = series_customer.pd_series().isna()\n",
    "sample_weight = np.ones((len(series_customer), 1))\n",
    "sample_weight[series_na_mask, 0] = 0.2\n",
    "sample_weight = series_customer.with_values(sample_weight)"
   ]
  },
  {
   "cell_type": "code",
   "execution_count": null,
   "metadata": {},
   "outputs": [],
   "source": [
    "from darts.dataprocessing.transformers.missing_values_filler import MissingValuesFiller\n",
    "\n",
    "transformer_filler = MissingValuesFiller()\n",
    "series_filled = transformer_filler.transform(series_customer)\n",
    "\n",
    "series_filled.plot()"
   ]
  },
  {
   "cell_type": "code",
   "execution_count": null,
   "metadata": {},
   "outputs": [],
   "source": [
    "training_cuttoff = 0.8\n",
    "\n",
    "series_train, series_val = series_filled.split_after(training_cuttoff)"
   ]
  },
  {
   "cell_type": "code",
   "execution_count": null,
   "metadata": {},
   "outputs": [],
   "source": [
    "from darts.dataprocessing.transformers import Scaler\n",
    "\n",
    "transformer_scaler = Scaler()\n",
    "\n",
    "series_train_t = transformer_scaler.fit_transform(series_train)\n",
    "series_val_t = transformer_scaler.fit_transform(series_val)\n",
    "series_t = transformer_scaler.fit_transform(series_customer)"
   ]
  },
  {
   "cell_type": "code",
   "execution_count": null,
   "metadata": {},
   "outputs": [],
   "source": [
    "from darts.models import TFTModel\n",
    "from darts.utils.likelihood_models import QuantileRegression\n",
    "\n",
    "\n",
    "# default quantiles for QuantileRegression\n",
    "quantiles = [\n",
    "    0.01,\n",
    "    0.05,\n",
    "    0.1,\n",
    "    0.15,\n",
    "    0.2,\n",
    "    0.25,\n",
    "    0.3,\n",
    "    0.4,\n",
    "    0.5,\n",
    "    0.6,\n",
    "    0.7,\n",
    "    0.75,\n",
    "    0.8,\n",
    "    0.85,\n",
    "    0.9,\n",
    "    0.95,\n",
    "    0.99,\n",
    "]\n",
    "input_chunk_length = 24\n",
    "forecast_horizon = 12\n",
    "\n",
    "add_encoders = {\n",
    "    \"cyclic\": {\"future\": [\"month\"]},\n",
    "    \"datetime_attribute\": {\"future\": [\"dayofweek\"]},\n",
    "    \"transformer\": Scaler(),\n",
    "}\n",
    "\n",
    "my_model = TFTModel(\n",
    "    input_chunk_length=input_chunk_length,\n",
    "    output_chunk_length=forecast_horizon,\n",
    "    hidden_size=64,\n",
    "    lstm_layers=1,\n",
    "    num_attention_heads=4,\n",
    "    full_attention=True,\n",
    "    dropout=0.1,\n",
    "    batch_size=512,\n",
    "    n_epochs=600,\n",
    "    add_relative_index=False,\n",
    "    add_encoders=add_encoders,\n",
    "    likelihood=QuantileRegression(\n",
    "        quantiles=quantiles\n",
    "    ),  # QuantileRegression is set per default\n",
    "    # loss_fn=MSELoss(),\n",
    "    random_state=42,\n",
    "    log_tensorboard=True,\n",
    ")\n",
    "my_model"
   ]
  },
  {
   "cell_type": "code",
   "execution_count": null,
   "metadata": {},
   "outputs": [],
   "source": [
    "my_model.fit(\n",
    "    series_train_t, val_series=series_val_t, verbose=True, sample_weight=sample_weight\n",
    ")"
   ]
  },
  {
   "cell_type": "code",
   "execution_count": null,
   "metadata": {},
   "outputs": [],
   "source": [
    "# before starting, we define some constants\n",
    "num_samples = 200\n",
    "\n",
    "figsize = (16, 6)\n",
    "lowest_q, low_q, high_q, highest_q = 0.01, 0.1, 0.9, 0.99\n",
    "label_q_outer = f\"{int(lowest_q * 100)}-{int(highest_q * 100)}th percentiles\"\n",
    "label_q_inner = f\"{int(low_q * 100)}-{int(high_q * 100)}th percentiles\""
   ]
  },
  {
   "cell_type": "code",
   "execution_count": null,
   "metadata": {},
   "outputs": [],
   "source": [
    "from darts.metrics import mape, mase, rmse\n",
    "import matplotlib.pyplot as plt\n",
    "\n",
    "\n",
    "def eval_model(model, n, actual_series, val_series):\n",
    "    cov_pred_past, cov_pred_future = my_model.generate_predict_encodings(\n",
    "        n, series_train_t\n",
    "    )\n",
    "\n",
    "    pred_series = model.predict(\n",
    "        n=n,\n",
    "        past_covariates=cov_pred_past,\n",
    "        future_covariates=cov_pred_future,\n",
    "        num_samples=num_samples,\n",
    "    )\n",
    "\n",
    "    # plot actual series\n",
    "    plt.figure(figsize=figsize)\n",
    "    actual_series[val_series.start_time() : val_series.end_time()].plot(label=\"actual\")\n",
    "\n",
    "    # plot prediction with quantile ranges\n",
    "    pred_series.plot(\n",
    "        low_quantile=lowest_q, high_quantile=highest_q, label=label_q_outer\n",
    "    )\n",
    "    pred_series.plot(low_quantile=low_q, high_quantile=high_q, label=label_q_inner)\n",
    "\n",
    "    plt.title(\"MAPE: {:.2f}%\".format(rmse(val_series, pred_series)))\n",
    "    plt.legend()\n",
    "\n",
    "\n",
    "n = (series_val_t.end_time() - series_val_t.start_time()).days\n",
    "\n",
    "eval_model(my_model, n, series_t, series_val_t)"
   ]
  },
  {
   "cell_type": "code",
   "execution_count": null,
   "metadata": {},
   "outputs": [],
   "source": []
  },
  {
   "cell_type": "code",
   "execution_count": null,
   "metadata": {},
   "outputs": [],
   "source": []
  }
 ],
 "metadata": {
  "kernelspec": {
   "display_name": "alki",
   "language": "python",
   "name": "python3"
  },
  "language_info": {
   "codemirror_mode": {
    "name": "ipython",
    "version": 3
   },
   "file_extension": ".py",
   "mimetype": "text/x-python",
   "name": "python",
   "nbconvert_exporter": "python",
   "pygments_lexer": "ipython3",
   "version": "3.10.15"
  }
 },
 "nbformat": 4,
 "nbformat_minor": 2
}
