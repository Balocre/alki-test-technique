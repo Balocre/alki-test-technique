{
 "cells": [
  {
   "cell_type": "code",
   "execution_count": null,
   "metadata": {},
   "outputs": [],
   "source": [
    "%env INFLUXDB_V2_ORG=alki\n",
    "%env INFLUXDB_V2_TOKEN=token\n",
    "%env INFLUXDB_V2_URL=http://localhost:8086\n",
    "\n",
    "import os\n",
    "\n",
    "CLIENT_HOST = os.getenv(\"INFLUXDB_V2_URL\")\n",
    "CLIENT_ORG = os.getenv(\"INFLUXDB_V2_ORG\")\n",
    "CLIENT_TOKEN = os.getenv(\"INFLUXDB_V2_TOKEN\")"
   ]
  },
  {
   "cell_type": "code",
   "execution_count": null,
   "metadata": {},
   "outputs": [],
   "source": [
    "def build_flux_customer_filter(customer_names):\n",
    "    filter_ = \" |> filter(fn: (r) => \"\n",
    "    if isinstance(customer_names, str):\n",
    "        filter_ += f'r[\"CUSTOMER\"] == \"{customer_names})\"'\n",
    "    elif isinstance(customer_names, list):\n",
    "        filter_ += f'r[\"CUSTOMER\"] == \"{customer_names.pop(0)}\" '\n",
    "        for name in customer_names:\n",
    "            filter_ += f'or r[\"CUSTOMER\"] == \"{name}\" '\n",
    "        filter_ += \")\"\n",
    "    return filter_\n",
    "\n",
    "\n",
    "build_flux_customer_filter([\"ARGALYS\", \"LES MIRACULEUX\"])"
   ]
  },
  {
   "cell_type": "code",
   "execution_count": null,
   "metadata": {},
   "outputs": [],
   "source": [
    "from influxdb_client import InfluxDBClient\n",
    "\n",
    "with InfluxDBClient(CLIENT_HOST, CLIENT_TOKEN, org=CLIENT_ORG) as client:\n",
    "    sql = (\n",
    "        (\n",
    "            'from(bucket: \"technical-test\")'\n",
    "            \" |> range(start: -8y)\"\n",
    "            ' |> filter(fn: (r) => r[\"_measurement\"] == \"customer_quantity\")'\n",
    "        )\n",
    "        + build_flux_customer_filter(\n",
    "            [\"ARGALYS\", \"LES MIRACULEUX\", \"MINCI DELICE\", \"NUTRAVANCE\"]\n",
    "        )\n",
    "        + (\n",
    "            ' |> filter(fn: (r) => r[\"_field\"] == \"QUANTITY\")'\n",
    "            ' |> pivot(rowKey:[\"_time\"], columnKey: [\"_field\"], valueColumn: \"_value\")'\n",
    "            ' |> drop(columns: [\"_start\", \"_stop\", \"_measurement\"])'\n",
    "        )\n",
    "    )\n",
    "    query_api = client.query_api()\n",
    "    df = query_api.query_data_frame(sql)\n",
    "\n",
    "df"
   ]
  },
  {
   "cell_type": "code",
   "execution_count": null,
   "metadata": {},
   "outputs": [],
   "source": [
    "from torchmetrics import (\n",
    "    MetricCollection,\n",
    "    MeanSquaredError,\n",
    "    MeanAbsoluteError,\n",
    "    MultioutputWrapper,\n",
    ")\n",
    "\n",
    "metrics = MetricCollection(\n",
    "    {\n",
    "        \"mean_squared_error\": MeanSquaredError(),\n",
    "        \"mean_absolute_error\": MeanAbsoluteError(),\n",
    "    }\n",
    ")"
   ]
  },
  {
   "cell_type": "code",
   "execution_count": null,
   "metadata": {},
   "outputs": [],
   "source": []
  }
 ],
 "metadata": {
  "kernelspec": {
   "display_name": "alki",
   "language": "python",
   "name": "python3"
  },
  "language_info": {
   "codemirror_mode": {
    "name": "ipython",
    "version": 3
   },
   "file_extension": ".py",
   "mimetype": "text/x-python",
   "name": "python",
   "nbconvert_exporter": "python",
   "pygments_lexer": "ipython3",
   "version": "3.10.15"
  }
 },
 "nbformat": 4,
 "nbformat_minor": 2
}
